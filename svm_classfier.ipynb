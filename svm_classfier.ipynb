{
 "cells": [
  {
   "cell_type": "code",
   "execution_count": null,
   "metadata": {},
   "outputs": [],
   "source": [
    "# import cv2\n",
    "# import numpy as np\n",
    "# import os\n",
    "\n",
    "# def load_images_from_folder(folder):\n",
    "#     images = []\n",
    "#     labels = []\n",
    "#     for label, subfolder in enumerate(os.listdir(folder)):\n",
    "#         subfolder_path = os.path.join(folder, subfolder)\n",
    "#         for filename in os.listdir(subfolder_path):\n",
    "#             img = cv2.imread(os.path.join(subfolder_path, filename), cv2.IMREAD_GRAYSCALE)\n",
    "#             if img is not None:\n",
    "#                 img = cv2.resize(img, (64, 64))  # Resize to 64x64\n",
    "#                 images.append(img.flatten())  # Flatten the image\n",
    "#                 labels.append(label)\n",
    "#     return np.array(images), np.array(labels)\n",
    "\n",
    "# # Load your dataset\n",
    "# X, y = load_images_from_folder('path_to_your_dataset')\n"
   ]
  },
  {
   "cell_type": "code",
   "execution_count": null,
   "metadata": {},
   "outputs": [],
   "source": [
    "from skimage.feature import hog\n",
    "\n",
    "def load_images_with_hog(folder):\n",
    "    images = []\n",
    "    labels = []\n",
    "    for label, subfolder in enumerate(os.listdir(folder)):\n",
    "        subfolder_path = os.path.join(folder, subfolder)\n",
    "        for filename in os.listdir(subfolder_path):\n",
    "            img = cv2.imread(os.path.join(subfolder_path, filename), cv2.IMREAD_GRAYSCALE)\n",
    "            if img is not None:\n",
    "                img = cv2.resize(img, (64, 64))  # Resize to 64x64\n",
    "                fd, _ = hog(img, orientations=8, pixels_per_cell=(8, 8),\n",
    "                            cells_per_block=(1, 1), visualize=True, multichannel=False)\n",
    "                images.append(fd)  # Use HOG features\n",
    "                labels.append(label)\n",
    "    return np.array(images), np.array(labels)\n",
    "\n",
    "# Load your dataset with HOG features\n",
    "X, y = load_images_with_hog('path_to_your_dataset')\n"
   ]
  },
  {
   "cell_type": "code",
   "execution_count": null,
   "metadata": {},
   "outputs": [],
   "source": [
    "# from sklearn.model_selection import train_test_split\n",
    "\n",
    "# X_train, X_test, y_train, y_test = train_test_split(X, y, test_size=0.2, random_state=42)\n"
   ]
  },
  {
   "cell_type": "code",
   "execution_count": null,
   "metadata": {},
   "outputs": [],
   "source": [
    "from sklearn.model_selection import train_test_split\n",
    "\n",
    "X_train, X_test, y_train, y_test = train_test_split(X, y, test_size=0.2, random_state=42)\n"
   ]
  },
  {
   "cell_type": "code",
   "execution_count": null,
   "metadata": {},
   "outputs": [],
   "source": [
    "class SVM:\n",
    "    def __init__(self, learning_rate=0.001, lambda_param=0.01, n_iters=1000):\n",
    "        self.lr = learning_rate\n",
    "        self.lambda_param = lambda_param\n",
    "        self.n_iters = n_iters\n",
    "        self.w = None\n",
    "        self.b = None\n",
    "\n",
    "    def fit(self, X, y):\n",
    "        n_samples, n_features = X.shape\n",
    "        y_ = np.where(y <= 0, -1, 1)\n",
    "        \n",
    "        self.w = np.zeros(n_features)\n",
    "        self.b = 0\n",
    "\n",
    "        for _ in range(self.n_iters):\n",
    "            for idx, x_i in enumerate(X):\n",
    "                condition = y_[idx] * (np.dot(x_i, self.w) - self.b) >= 1\n",
    "                if condition:\n",
    "                    self.w -= self.lr * (2 * self.lambda_param * self.w)\n",
    "                else:\n",
    "                    self.w -= self.lr * (2 * self.lambda_param * self.w - np.dot(x_i, y_[idx]))\n",
    "                    self.b -= self.lr * y_[idx]\n",
    "    \n",
    "    def predict(self, X):\n",
    "        approx = np.dot(X, self.w) - self.b\n",
    "        return np.sign(approx)\n"
   ]
  },
  {
   "cell_type": "code",
   "execution_count": null,
   "metadata": {},
   "outputs": [],
   "source": [
    "def train_one_vs_rest_svm(X_train, y_train):\n",
    "    svms = []\n",
    "    for label in np.unique(y_train):\n",
    "        y_train_binary = np.where(y_train == label, 1, -1)\n",
    "        svm = SVM()\n",
    "        svm.fit(X_train, y_train_binary)\n",
    "        svms.append(svm)\n",
    "    return svms\n",
    "\n",
    "def predict_one_vs_rest(svms, X):\n",
    "    predictions = np.array([svm.predict(X) for svm in svms])\n",
    "    return np.argmax(predictions, axis=0)\n",
    "\n",
    "# Train\n",
    "svms = train_one_vs_rest_svm(X_train, y_train)\n",
    "\n",
    "# Predict\n",
    "y_pred = predict_one_vs_rest(svms, X_test)\n"
   ]
  },
  {
   "cell_type": "code",
   "execution_count": null,
   "metadata": {},
   "outputs": [],
   "source": [
    "from sklearn.metrics import accuracy_score, confusion_matrix\n",
    "\n",
    "print(\"Accuracy:\", accuracy_score(y_test, y_pred))\n",
    "print(\"Confusion Matrix:\\n\", confusion_matrix(y_test, y_pred))\n"
   ]
  }
 ],
 "metadata": {
  "language_info": {
   "name": "python"
  }
 },
 "nbformat": 4,
 "nbformat_minor": 2
}
